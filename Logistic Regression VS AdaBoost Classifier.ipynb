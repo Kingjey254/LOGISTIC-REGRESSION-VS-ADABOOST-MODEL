{
 "cells": [
  {
   "cell_type": "code",
   "execution_count": 1,
   "id": "57c8f503-413b-4dab-acfa-64505e144ffd",
   "metadata": {},
   "outputs": [
    {
     "name": "stderr",
     "output_type": "stream",
     "text": [
      "Importing plotly failed. Interactive plots will not work.\n",
      "Importing plotly failed. Interactive plots will not work.\n"
     ]
    }
   ],
   "source": [
    "import numpy as np \n",
    "import pandas as pd \n",
    "import matplotlib.pyplot as plt\n",
    "import seaborn as sns\n",
    "import datetime\n",
    "import os\n",
    "import plotly.express as px\n",
    "from sklearn.linear_model import LogisticRegression\n",
    "from sklearn.metrics import classification_report\n",
    "from sklearn import metrics\n",
    "from sklearn.metrics import mean_squared_error,mean_absolute_error\n",
    "from sklearn.model_selection import train_test_split, GridSearchCV\n",
    "from sklearn.neighbors import KNeighborsClassifier\n",
    "from sklearn.ensemble import RandomForestClassifier, AdaBoostClassifier\n",
    "from sklearn.tree import DecisionTreeClassifier\n",
    "from neuralprophet import NeuralProphet\n",
    "from sklearn.preprocessing import LabelEncoder\n",
    "import warnings\n",
    "warnings.filterwarnings(\"ignore\")"
   ]
  },
  {
   "cell_type": "markdown",
   "id": "061c29da-0dc4-4f99-baa2-fad9d99cf2b5",
   "metadata": {},
   "source": [
    "## Data importing"
   ]
  },
  {
   "cell_type": "code",
   "execution_count": 2,
   "id": "4e613c47-0572-4c6b-8650-c9fd5b89f172",
   "metadata": {},
   "outputs": [],
   "source": [
    "df= pd.read_csv(\"C:/Users/PC/Downloads/Respodents summary(1).csv\")"
   ]
  },
  {
   "cell_type": "code",
   "execution_count": 3,
   "id": "4e1e7d01-891c-4ae7-93dc-894768b5fe8a",
   "metadata": {},
   "outputs": [
    {
     "data": {
      "text/html": [
       "<div>\n",
       "<style scoped>\n",
       "    .dataframe tbody tr th:only-of-type {\n",
       "        vertical-align: middle;\n",
       "    }\n",
       "\n",
       "    .dataframe tbody tr th {\n",
       "        vertical-align: top;\n",
       "    }\n",
       "\n",
       "    .dataframe thead th {\n",
       "        text-align: right;\n",
       "    }\n",
       "</style>\n",
       "<table border=\"1\" class=\"dataframe\">\n",
       "  <thead>\n",
       "    <tr style=\"text-align: right;\">\n",
       "      <th></th>\n",
       "      <th>Respondent</th>\n",
       "      <th>Gender</th>\n",
       "      <th>Age</th>\n",
       "      <th>Years of Experience</th>\n",
       "      <th>Virtual working befor Covid</th>\n",
       "      <th>Size of Team</th>\n",
       "      <th>Nature of company</th>\n",
       "      <th>Mode of Communication</th>\n",
       "      <th>Most Prvalent Problem</th>\n",
       "      <th>Eployee Well-Being</th>\n",
       "      <th>Recoomendation</th>\n",
       "    </tr>\n",
       "  </thead>\n",
       "  <tbody>\n",
       "    <tr>\n",
       "      <th>0</th>\n",
       "      <td>R1</td>\n",
       "      <td>Male</td>\n",
       "      <td>35</td>\n",
       "      <td>32 to 35</td>\n",
       "      <td>No</td>\n",
       "      <td>10</td>\n",
       "      <td>Service</td>\n",
       "      <td>Email</td>\n",
       "      <td>Internet connectivity</td>\n",
       "      <td>Yes</td>\n",
       "      <td>Blended working</td>\n",
       "    </tr>\n",
       "    <tr>\n",
       "      <th>1</th>\n",
       "      <td>R2</td>\n",
       "      <td>Female</td>\n",
       "      <td>42</td>\n",
       "      <td>0 to  3</td>\n",
       "      <td>Yes</td>\n",
       "      <td>15</td>\n",
       "      <td>Production</td>\n",
       "      <td>Social Media</td>\n",
       "      <td>Disruptions</td>\n",
       "      <td>Yes</td>\n",
       "      <td>Complete resumption</td>\n",
       "    </tr>\n",
       "    <tr>\n",
       "      <th>2</th>\n",
       "      <td>R3</td>\n",
       "      <td>Female</td>\n",
       "      <td>65</td>\n",
       "      <td>8 t0 11</td>\n",
       "      <td>No</td>\n",
       "      <td>35</td>\n",
       "      <td>Service</td>\n",
       "      <td>Email</td>\n",
       "      <td>Delays</td>\n",
       "      <td>Yes</td>\n",
       "      <td>Blended working</td>\n",
       "    </tr>\n",
       "    <tr>\n",
       "      <th>3</th>\n",
       "      <td>R4</td>\n",
       "      <td>Female</td>\n",
       "      <td>33</td>\n",
       "      <td>8 to 11</td>\n",
       "      <td>No</td>\n",
       "      <td>20</td>\n",
       "      <td>Service</td>\n",
       "      <td>Virtual Meetings</td>\n",
       "      <td>Delays</td>\n",
       "      <td>Yes</td>\n",
       "      <td>Complete resumption</td>\n",
       "    </tr>\n",
       "    <tr>\n",
       "      <th>4</th>\n",
       "      <td>R5</td>\n",
       "      <td>Male</td>\n",
       "      <td>29</td>\n",
       "      <td>8 to 11</td>\n",
       "      <td>No</td>\n",
       "      <td>50</td>\n",
       "      <td>Production</td>\n",
       "      <td>Email</td>\n",
       "      <td>Disruptions</td>\n",
       "      <td>No</td>\n",
       "      <td>Remort Working</td>\n",
       "    </tr>\n",
       "  </tbody>\n",
       "</table>\n",
       "</div>"
      ],
      "text/plain": [
       "  Respondent  Gender  Age Years of Experience Virtual working befor Covid  \\\n",
       "0         R1    Male   35            32 to 35                          No   \n",
       "1         R2  Female   42             0 to  3                         Yes   \n",
       "2         R3  Female   65             8 t0 11                          No   \n",
       "3         R4  Female   33             8 to 11                          No   \n",
       "4         R5    Male   29             8 to 11                          No   \n",
       "\n",
       "   Size of Team Nature of company Mode of Communication  \\\n",
       "0            10           Service                 Email   \n",
       "1            15        Production          Social Media   \n",
       "2            35           Service                 Email   \n",
       "3            20           Service      Virtual Meetings   \n",
       "4            50        Production                 Email   \n",
       "\n",
       "   Most Prvalent Problem Eployee Well-Being       Recoomendation  \n",
       "0  Internet connectivity                Yes      Blended working  \n",
       "1            Disruptions                Yes  Complete resumption  \n",
       "2                 Delays                Yes      Blended working  \n",
       "3                 Delays                Yes  Complete resumption  \n",
       "4            Disruptions                 No       Remort Working  "
      ]
     },
     "execution_count": 3,
     "metadata": {},
     "output_type": "execute_result"
    }
   ],
   "source": [
    "df.head()"
   ]
  },
  {
   "cell_type": "markdown",
   "id": "b7716306-e686-4b4b-832b-a1a0ff1201fb",
   "metadata": {},
   "source": [
    "## Data cleaning and analysis"
   ]
  },
  {
   "cell_type": "code",
   "execution_count": 4,
   "id": "f33d3c78-904e-40eb-9425-0d69562ab980",
   "metadata": {},
   "outputs": [
    {
     "data": {
      "text/plain": [
       "(15, 11)"
      ]
     },
     "execution_count": 4,
     "metadata": {},
     "output_type": "execute_result"
    }
   ],
   "source": [
    "df.shape"
   ]
  },
  {
   "cell_type": "code",
   "execution_count": 5,
   "id": "cbfcfa41-6266-48d7-9286-96fec8416722",
   "metadata": {},
   "outputs": [
    {
     "data": {
      "text/plain": [
       "Index(['Respondent', 'Gender', 'Age', 'Years of Experience',\n",
       "       'Virtual working befor Covid', 'Size of Team', 'Nature of company',\n",
       "       'Mode of Communication', 'Most Prvalent Problem', 'Eployee Well-Being',\n",
       "       'Recoomendation'],\n",
       "      dtype='object')"
      ]
     },
     "execution_count": 5,
     "metadata": {},
     "output_type": "execute_result"
    }
   ],
   "source": [
    "df.columns"
   ]
  },
  {
   "cell_type": "code",
   "execution_count": 6,
   "id": "8643010a-ffac-441e-b852-e0e7a43ba621",
   "metadata": {},
   "outputs": [
    {
     "data": {
      "text/plain": [
       "Respondent                     object\n",
       "Gender                         object\n",
       "Age                             int64\n",
       "Years of Experience            object\n",
       "Virtual working befor Covid    object\n",
       "Size of Team                    int64\n",
       "Nature of company              object\n",
       "Mode of Communication          object\n",
       "Most Prvalent Problem          object\n",
       "Eployee Well-Being             object\n",
       "Recoomendation                 object\n",
       "dtype: object"
      ]
     },
     "execution_count": 6,
     "metadata": {},
     "output_type": "execute_result"
    }
   ],
   "source": [
    "df.dtypes"
   ]
  },
  {
   "cell_type": "code",
   "execution_count": 7,
   "id": "7ca601b8-2638-41c9-8034-17b3c7646f06",
   "metadata": {},
   "outputs": [
    {
     "data": {
      "text/plain": [
       "Respondent                     0\n",
       "Gender                         0\n",
       "Age                            0\n",
       "Years of Experience            0\n",
       "Virtual working befor Covid    0\n",
       "Size of Team                   0\n",
       "Nature of company              0\n",
       "Mode of Communication          0\n",
       "Most Prvalent Problem          0\n",
       "Eployee Well-Being             0\n",
       "Recoomendation                 0\n",
       "dtype: int64"
      ]
     },
     "execution_count": 7,
     "metadata": {},
     "output_type": "execute_result"
    }
   ],
   "source": [
    "df.isnull().sum()"
   ]
  },
  {
   "cell_type": "code",
   "execution_count": 8,
   "id": "d8e07aaf-21bc-4ac5-884b-e92d3cd4a637",
   "metadata": {},
   "outputs": [
    {
     "data": {
      "text/plain": [
       "0"
      ]
     },
     "execution_count": 8,
     "metadata": {},
     "output_type": "execute_result"
    }
   ],
   "source": [
    "df.duplicated().sum()"
   ]
  },
  {
   "cell_type": "code",
   "execution_count": 9,
   "id": "5f80a3a7-3150-4cf8-90fb-c6681818a023",
   "metadata": {},
   "outputs": [
    {
     "data": {
      "text/html": [
       "<div>\n",
       "<style scoped>\n",
       "    .dataframe tbody tr th:only-of-type {\n",
       "        vertical-align: middle;\n",
       "    }\n",
       "\n",
       "    .dataframe tbody tr th {\n",
       "        vertical-align: top;\n",
       "    }\n",
       "\n",
       "    .dataframe thead th {\n",
       "        text-align: right;\n",
       "    }\n",
       "</style>\n",
       "<table border=\"1\" class=\"dataframe\">\n",
       "  <thead>\n",
       "    <tr style=\"text-align: right;\">\n",
       "      <th></th>\n",
       "      <th>Respondent</th>\n",
       "      <th>Gender</th>\n",
       "      <th>Years of Experience</th>\n",
       "      <th>Virtual working befor Covid</th>\n",
       "      <th>Nature of company</th>\n",
       "      <th>Mode of Communication</th>\n",
       "      <th>Most Prvalent Problem</th>\n",
       "      <th>Eployee Well-Being</th>\n",
       "      <th>Recoomendation</th>\n",
       "    </tr>\n",
       "  </thead>\n",
       "  <tbody>\n",
       "    <tr>\n",
       "      <th>count</th>\n",
       "      <td>15</td>\n",
       "      <td>15</td>\n",
       "      <td>15</td>\n",
       "      <td>15</td>\n",
       "      <td>15</td>\n",
       "      <td>15</td>\n",
       "      <td>15</td>\n",
       "      <td>15</td>\n",
       "      <td>15</td>\n",
       "    </tr>\n",
       "    <tr>\n",
       "      <th>unique</th>\n",
       "      <td>15</td>\n",
       "      <td>2</td>\n",
       "      <td>8</td>\n",
       "      <td>2</td>\n",
       "      <td>2</td>\n",
       "      <td>4</td>\n",
       "      <td>3</td>\n",
       "      <td>2</td>\n",
       "      <td>3</td>\n",
       "    </tr>\n",
       "    <tr>\n",
       "      <th>top</th>\n",
       "      <td>R1</td>\n",
       "      <td>Female</td>\n",
       "      <td>8 to 11</td>\n",
       "      <td>No</td>\n",
       "      <td>Service</td>\n",
       "      <td>Email</td>\n",
       "      <td>Internet connectivity</td>\n",
       "      <td>Yes</td>\n",
       "      <td>Blended working</td>\n",
       "    </tr>\n",
       "    <tr>\n",
       "      <th>freq</th>\n",
       "      <td>1</td>\n",
       "      <td>10</td>\n",
       "      <td>5</td>\n",
       "      <td>12</td>\n",
       "      <td>10</td>\n",
       "      <td>8</td>\n",
       "      <td>8</td>\n",
       "      <td>11</td>\n",
       "      <td>8</td>\n",
       "    </tr>\n",
       "  </tbody>\n",
       "</table>\n",
       "</div>"
      ],
      "text/plain": [
       "       Respondent  Gender Years of Experience Virtual working befor Covid  \\\n",
       "count          15      15                  15                          15   \n",
       "unique         15       2                   8                           2   \n",
       "top            R1  Female             8 to 11                          No   \n",
       "freq            1      10                   5                          12   \n",
       "\n",
       "       Nature of company Mode of Communication  Most Prvalent Problem  \\\n",
       "count                 15                    15                     15   \n",
       "unique                 2                     4                      3   \n",
       "top              Service                 Email  Internet connectivity   \n",
       "freq                  10                     8                      8   \n",
       "\n",
       "       Eployee Well-Being   Recoomendation  \n",
       "count                  15               15  \n",
       "unique                  2                3  \n",
       "top                   Yes  Blended working  \n",
       "freq                   11                8  "
      ]
     },
     "execution_count": 9,
     "metadata": {},
     "output_type": "execute_result"
    }
   ],
   "source": [
    "df.describe(include='object')"
   ]
  },
  {
   "cell_type": "code",
   "execution_count": 10,
   "id": "31678aca-5f21-43d8-88e3-9b70af9c1030",
   "metadata": {},
   "outputs": [
    {
     "data": {
      "text/html": [
       "<div>\n",
       "<style scoped>\n",
       "    .dataframe tbody tr th:only-of-type {\n",
       "        vertical-align: middle;\n",
       "    }\n",
       "\n",
       "    .dataframe tbody tr th {\n",
       "        vertical-align: top;\n",
       "    }\n",
       "\n",
       "    .dataframe thead th {\n",
       "        text-align: right;\n",
       "    }\n",
       "</style>\n",
       "<table border=\"1\" class=\"dataframe\">\n",
       "  <thead>\n",
       "    <tr style=\"text-align: right;\">\n",
       "      <th></th>\n",
       "      <th>Age</th>\n",
       "      <th>Size of Team</th>\n",
       "    </tr>\n",
       "  </thead>\n",
       "  <tbody>\n",
       "    <tr>\n",
       "      <th>count</th>\n",
       "      <td>15.000000</td>\n",
       "      <td>15.000000</td>\n",
       "    </tr>\n",
       "    <tr>\n",
       "      <th>mean</th>\n",
       "      <td>47.333333</td>\n",
       "      <td>19.133333</td>\n",
       "    </tr>\n",
       "    <tr>\n",
       "      <th>std</th>\n",
       "      <td>13.058477</td>\n",
       "      <td>11.691674</td>\n",
       "    </tr>\n",
       "    <tr>\n",
       "      <th>min</th>\n",
       "      <td>29.000000</td>\n",
       "      <td>5.000000</td>\n",
       "    </tr>\n",
       "    <tr>\n",
       "      <th>25%</th>\n",
       "      <td>36.000000</td>\n",
       "      <td>12.000000</td>\n",
       "    </tr>\n",
       "    <tr>\n",
       "      <th>50%</th>\n",
       "      <td>43.000000</td>\n",
       "      <td>15.000000</td>\n",
       "    </tr>\n",
       "    <tr>\n",
       "      <th>75%</th>\n",
       "      <td>57.500000</td>\n",
       "      <td>21.500000</td>\n",
       "    </tr>\n",
       "    <tr>\n",
       "      <th>max</th>\n",
       "      <td>70.000000</td>\n",
       "      <td>50.000000</td>\n",
       "    </tr>\n",
       "  </tbody>\n",
       "</table>\n",
       "</div>"
      ],
      "text/plain": [
       "             Age  Size of Team\n",
       "count  15.000000     15.000000\n",
       "mean   47.333333     19.133333\n",
       "std    13.058477     11.691674\n",
       "min    29.000000      5.000000\n",
       "25%    36.000000     12.000000\n",
       "50%    43.000000     15.000000\n",
       "75%    57.500000     21.500000\n",
       "max    70.000000     50.000000"
      ]
     },
     "execution_count": 10,
     "metadata": {},
     "output_type": "execute_result"
    }
   ],
   "source": [
    "df.describe()"
   ]
  },
  {
   "cell_type": "code",
   "execution_count": 11,
   "id": "9fa0bebb-5d6d-4fcc-83b6-36ecbe37d878",
   "metadata": {},
   "outputs": [
    {
     "name": "stdout",
     "output_type": "stream",
     "text": [
      "---------------------------------------\n",
      "Respondent\n",
      "R1     1\n",
      "R2     1\n",
      "R3     1\n",
      "R4     1\n",
      "R5     1\n",
      "R6     1\n",
      "R7     1\n",
      "R8     1\n",
      "R9     1\n",
      "R10    1\n",
      "R11    1\n",
      "R12    1\n",
      "R13    1\n",
      "R14    1\n",
      "R15    1\n",
      "Name: count, dtype: int64\n",
      "---------------------------------------\n",
      "Gender\n",
      "Female    10\n",
      "Male       5\n",
      "Name: count, dtype: int64\n",
      "---------------------------------------\n",
      "Years of Experience\n",
      "8 to 11     5\n",
      "0 to 3      2\n",
      "4 to 7      2\n",
      "8 to11      2\n",
      "32 to 35    1\n",
      "0 to  3     1\n",
      "8 t0 11     1\n",
      " 0 to 3     1\n",
      "Name: count, dtype: int64\n",
      "---------------------------------------\n",
      "Virtual working befor Covid\n",
      "No     12\n",
      "Yes     3\n",
      "Name: count, dtype: int64\n",
      "---------------------------------------\n",
      "Nature of company\n",
      "Service       10\n",
      "Production     5\n",
      "Name: count, dtype: int64\n",
      "---------------------------------------\n",
      "Mode of Communication\n",
      "Email               8\n",
      "Virtual Meetings    4\n",
      "Social Media        2\n",
      "Email               1\n",
      "Name: count, dtype: int64\n",
      "---------------------------------------\n",
      "Most Prvalent Problem\n",
      "Internet connectivity    8\n",
      "Disruptions              4\n",
      "Delays                   3\n",
      "Name: count, dtype: int64\n",
      "---------------------------------------\n",
      "Eployee Well-Being\n",
      "Yes    11\n",
      "No      4\n",
      "Name: count, dtype: int64\n",
      "---------------------------------------\n",
      "Recoomendation\n",
      "Blended working        8\n",
      "Remort Working         4\n",
      "Complete resumption    3\n",
      "Name: count, dtype: int64\n"
     ]
    }
   ],
   "source": [
    "for i in df.select_dtypes(include=\"object\").columns:\n",
    "    print(\"---------------------------------------\")\n",
    "    print(df[i].value_counts())"
   ]
  },
  {
   "cell_type": "markdown",
   "id": "12186681-a0b1-4c5c-9d94-ad20952bb256",
   "metadata": {},
   "source": [
    "## Visualizations"
   ]
  },
  {
   "cell_type": "code",
   "execution_count": 12,
   "id": "f1081718-7ae8-4e1f-8e71-0fa3b639eb63",
   "metadata": {},
   "outputs": [
    {
     "data": {
      "image/png": "[encoded data removed]",
      "text/plain": [
       "<Figure size 640x480 with 1 Axes>"
      ]
     },
     "metadata": {},
     "output_type": "display_data"
    }
   ],
   "source": [
    "df.hist(column=\"Age\",color=\"blue\",grid=False)\n",
    "plt.show()"
   ]
  },
  {
   "cell_type": "code",
   "execution_count": 13,
   "id": "aa78a604-f7dd-4282-91cd-25ffe15f1861",
   "metadata": {},
   "outputs": [
    {
     "data": {
      "image/png": "[encoded data removed]",
      "text/plain": [
       "<Figure size 640x480 with 1 Axes>"
      ]
     },
     "metadata": {},
     "output_type": "display_data"
    }
   ],
   "source": [
    "df.hist(column=\"Size of Team\",color=\"blue\",grid=False)\n",
    "plt.show()"
   ]
  },
  {
   "cell_type": "code",
   "execution_count": 14,
   "id": "20dc3674-8b47-4d9c-8d92-91cb957fedf0",
   "metadata": {},
   "outputs": [
    {
     "data": {
      "image/png": "[encoded data removed]",
      "text/plain": [
       "<Figure size 640x480 with 1 Axes>"
      ]
     },
     "metadata": {},
     "output_type": "display_data"
    },
    {
     "data": {
      "image/png": "[encoded data removed]",
      "text/plain": [
       "<Figure size 640x480 with 1 Axes>"
      ]
     },
     "metadata": {},
     "output_type": "display_data"
    }
   ],
   "source": [
    "#Scatterplot for variables in a list\n",
    "for i in df.select_dtypes(include=\"number\").columns:\n",
    "    sns.boxplot(data=df, y=i)\n",
    "    plt.show()"
   ]
  },
  {
   "cell_type": "code",
   "execution_count": 15,
   "id": "aaf1ce48-3bf9-4133-820a-d76a7e0d899f",
   "metadata": {},
   "outputs": [
    {
     "data": {
      "image/png": "[encoded data removed]",
      "text/plain": [
       "<Figure size 640x480 with 1 Axes>"
      ]
     },
     "metadata": {},
     "output_type": "display_data"
    },
    {
     "data": {
      "image/png": "[encoded data removed]",
      "text/plain": [
       "<Figure size 640x480 with 1 Axes>"
      ]
     },
     "metadata": {},
     "output_type": "display_data"
    }
   ],
   "source": [
    "#Scatterplot for variables in a list\n",
    "for i in df.select_dtypes(include=\"number\").columns:\n",
    "    sns.scatterplot(data=df, x=i,y=\"Size of Team\")\n",
    "    plt.show()"
   ]
  },
  {
   "cell_type": "code",
   "execution_count": 16,
   "id": "562afd00-0774-44d1-b399-42291cc4837e",
   "metadata": {},
   "outputs": [
    {
     "data": {
      "image/png": "[encoded data removed]",
      "text/plain": [
       "<Figure size 640x480 with 1 Axes>"
      ]
     },
     "metadata": {},
     "output_type": "display_data"
    },
    {
     "data": {
      "image/png": "[encoded data removed]",
      "text/plain": [
       "<Figure size 640x480 with 1 Axes>"
      ]
     },
     "metadata": {},
     "output_type": "display_data"
    }
   ],
   "source": [
    "for i in df.select_dtypes(include=\"number\").columns:\n",
    "    sns.lineplot(data=df, x=i,y=\"Size of Team\")\n",
    "    plt.show()"
   ]
  },
  {
   "cell_type": "markdown",
   "id": "97df09a5-66e5-44d0-bece-42059ad1b83e",
   "metadata": {},
   "source": [
    "## DATA PREPROCESSING FOR MODELLING"
   ]
  },
  {
   "cell_type": "code",
   "execution_count": 17,
   "id": "e77c5497-5f64-4f17-9ccd-99decab78aa8",
   "metadata": {},
   "outputs": [],
   "source": [
    "#Data Encoding\n",
    "df[['Respondent', 'Gender', 'Age', 'Years of Experience',\n",
    "       'Virtual working befor Covid', 'Size of Team', 'Nature of company',\n",
    "       'Mode of Communication', 'Most Prvalent Problem', 'Eployee Well-Being',\n",
    "       'Recoomendation']]=df[['Respondent', 'Gender', 'Age', 'Years of Experience',\n",
    "       'Virtual working befor Covid', 'Size of Team', 'Nature of company',\n",
    "       'Mode of Communication', 'Most Prvalent Problem', 'Eployee Well-Being',\n",
    "       'Recoomendation']].apply(LabelEncoder().fit_transform)"
   ]
  },
  {
   "cell_type": "code",
   "execution_count": 18,
   "id": "750d09e2-aa23-46a0-9eab-d12dbc40bd28",
   "metadata": {},
   "outputs": [],
   "source": [
    "#Correcting the variable names\n",
    "df.columns = df.columns.str.replace(' ', '_')"
   ]
  },
  {
   "cell_type": "code",
   "execution_count": 19,
   "id": "cec2aac6-17d8-4272-bfd5-774e8d654369",
   "metadata": {},
   "outputs": [
    {
     "data": {
      "text/html": [
       "<div>\n",
       "<style scoped>\n",
       "    .dataframe tbody tr th:only-of-type {\n",
       "        vertical-align: middle;\n",
       "    }\n",
       "\n",
       "    .dataframe tbody tr th {\n",
       "        vertical-align: top;\n",
       "    }\n",
       "\n",
       "    .dataframe thead th {\n",
       "        text-align: right;\n",
       "    }\n",
       "</style>\n",
       "<table border=\"1\" class=\"dataframe\">\n",
       "  <thead>\n",
       "    <tr style=\"text-align: right;\">\n",
       "      <th></th>\n",
       "      <th>Respondent</th>\n",
       "      <th>Gender</th>\n",
       "      <th>Age</th>\n",
       "      <th>Years_of_Experience</th>\n",
       "      <th>Virtual_working_befor_Covid</th>\n",
       "      <th>Size_of_Team</th>\n",
       "      <th>Nature_of_company</th>\n",
       "      <th>Mode_of_Communication</th>\n",
       "      <th>Most_Prvalent_Problem</th>\n",
       "      <th>Eployee_Well-Being</th>\n",
       "      <th>Recoomendation</th>\n",
       "    </tr>\n",
       "  </thead>\n",
       "  <tbody>\n",
       "    <tr>\n",
       "      <th>0</th>\n",
       "      <td>0</td>\n",
       "      <td>1</td>\n",
       "      <td>2</td>\n",
       "      <td>3</td>\n",
       "      <td>0</td>\n",
       "      <td>2</td>\n",
       "      <td>1</td>\n",
       "      <td>0</td>\n",
       "      <td>2</td>\n",
       "      <td>1</td>\n",
       "      <td>0</td>\n",
       "    </tr>\n",
       "    <tr>\n",
       "      <th>1</th>\n",
       "      <td>7</td>\n",
       "      <td>0</td>\n",
       "      <td>4</td>\n",
       "      <td>1</td>\n",
       "      <td>1</td>\n",
       "      <td>4</td>\n",
       "      <td>0</td>\n",
       "      <td>2</td>\n",
       "      <td>1</td>\n",
       "      <td>1</td>\n",
       "      <td>1</td>\n",
       "    </tr>\n",
       "    <tr>\n",
       "      <th>2</th>\n",
       "      <td>8</td>\n",
       "      <td>0</td>\n",
       "      <td>11</td>\n",
       "      <td>5</td>\n",
       "      <td>0</td>\n",
       "      <td>10</td>\n",
       "      <td>1</td>\n",
       "      <td>0</td>\n",
       "      <td>0</td>\n",
       "      <td>1</td>\n",
       "      <td>0</td>\n",
       "    </tr>\n",
       "    <tr>\n",
       "      <th>3</th>\n",
       "      <td>9</td>\n",
       "      <td>0</td>\n",
       "      <td>1</td>\n",
       "      <td>6</td>\n",
       "      <td>0</td>\n",
       "      <td>6</td>\n",
       "      <td>1</td>\n",
       "      <td>3</td>\n",
       "      <td>0</td>\n",
       "      <td>1</td>\n",
       "      <td>1</td>\n",
       "    </tr>\n",
       "    <tr>\n",
       "      <th>4</th>\n",
       "      <td>10</td>\n",
       "      <td>1</td>\n",
       "      <td>0</td>\n",
       "      <td>6</td>\n",
       "      <td>0</td>\n",
       "      <td>11</td>\n",
       "      <td>0</td>\n",
       "      <td>0</td>\n",
       "      <td>1</td>\n",
       "      <td>0</td>\n",
       "      <td>2</td>\n",
       "    </tr>\n",
       "  </tbody>\n",
       "</table>\n",
       "</div>"
      ],
      "text/plain": [
       "   Respondent  Gender  Age  Years_of_Experience  Virtual_working_befor_Covid  \\\n",
       "0           0       1    2                    3                            0   \n",
       "1           7       0    4                    1                            1   \n",
       "2           8       0   11                    5                            0   \n",
       "3           9       0    1                    6                            0   \n",
       "4          10       1    0                    6                            0   \n",
       "\n",
       "   Size_of_Team  Nature_of_company  Mode_of_Communication  \\\n",
       "0             2                  1                      0   \n",
       "1             4                  0                      2   \n",
       "2            10                  1                      0   \n",
       "3             6                  1                      3   \n",
       "4            11                  0                      0   \n",
       "\n",
       "   Most_Prvalent_Problem  Eployee_Well-Being  Recoomendation  \n",
       "0                      2                   1               0  \n",
       "1                      1                   1               1  \n",
       "2                      0                   1               0  \n",
       "3                      0                   1               1  \n",
       "4                      1                   0               2  "
      ]
     },
     "execution_count": 19,
     "metadata": {},
     "output_type": "execute_result"
    }
   ],
   "source": [
    "df.head()"
   ]
  },
  {
   "cell_type": "code",
   "execution_count": 20,
   "id": "ba1351b7-a403-4629-9331-0d8e164361c3",
   "metadata": {},
   "outputs": [
    {
     "data": {
      "text/plain": [
       "Index(['Respondent', 'Gender', 'Age', 'Years_of_Experience',\n",
       "       'Virtual_working_befor_Covid', 'Size_of_Team', 'Nature_of_company',\n",
       "       'Mode_of_Communication', 'Most_Prvalent_Problem', 'Eployee_Well-Being',\n",
       "       'Recoomendation'],\n",
       "      dtype='object')"
      ]
     },
     "execution_count": 20,
     "metadata": {},
     "output_type": "execute_result"
    }
   ],
   "source": [
    "df.columns"
   ]
  },
  {
   "cell_type": "code",
   "execution_count": 21,
   "id": "3d02746b-7295-4308-b89b-f1bc0875d107",
   "metadata": {},
   "outputs": [],
   "source": [
    "#Separating independent and dependent variables from the dataset by creating lists\n",
    "X=df[['Gender', 'Age', 'Years_of_Experience',\n",
    "       'Virtual_working_befor_Covid', 'Size_of_Team', 'Nature_of_company',\n",
    "       'Mode_of_Communication', 'Most_Prvalent_Problem',\n",
    "       'Recoomendation']]\n",
    "Y=df['Eployee_Well-Being']"
   ]
  },
  {
   "cell_type": "code",
   "execution_count": 22,
   "id": "8531120c-3efe-4a68-b2bc-d274f94c2d48",
   "metadata": {},
   "outputs": [],
   "source": [
    "# Split dataset into training set and test set\n",
    "X_train, X_test, Y_train, Y_test = train_test_split(X, Y, test_size=0.3, random_state=1) # 70% training and 30% test"
   ]
  },
  {
   "cell_type": "markdown",
   "id": "b3da3c20-a0a1-4c4c-ba37-28fb74fe25e2",
   "metadata": {},
   "source": [
    "#### CHOOSING THE BEST MODEL BETWEEN LOGISTIC REGRESSION AND ADABOOST MODEL BY COMPARING ACCURACY"
   ]
  },
  {
   "cell_type": "markdown",
   "id": "9bd7c853-c3e4-4062-9f23-2b8793af4037",
   "metadata": {},
   "source": [
    "### a) Logistic regression"
   ]
  },
  {
   "cell_type": "code",
   "execution_count": 23,
   "id": "6dde5bd6-8338-44c3-9a71-8c0bbf5893a9",
   "metadata": {},
   "outputs": [
    {
     "data": {
      "text/html": [
       "<style>#sk-container-id-1 {color: black;background-color: white;}#sk-container-id-1 pre{padding: 0;}#sk-container-id-1 div.sk-toggleable {background-color: white;}#sk-container-id-1 label.sk-toggleable__label {cursor: pointer;display: block;width: 100%;margin-bottom: 0;padding: 0.3em;box-sizing: border-box;text-align: center;}#sk-container-id-1 label.sk-toggleable__label-arrow:before {content: \"▸\";float: left;margin-right: 0.25em;color: #696969;}#sk-container-id-1 label.sk-toggleable__label-arrow:hover:before {color: black;}#sk-container-id-1 div.sk-estimator:hover label.sk-toggleable__label-arrow:before {color: black;}#sk-container-id-1 div.sk-toggleable__content {max-height: 0;max-width: 0;overflow: hidden;text-align: left;background-color: #f0f8ff;}#sk-container-id-1 div.sk-toggleable__content pre {margin: 0.2em;color: black;border-radius: 0.25em;background-color: #f0f8ff;}#sk-container-id-1 input.sk-toggleable__control:checked~div.sk-toggleable__content {max-height: 200px;max-width: 100%;overflow: auto;}#sk-container-id-1 input.sk-toggleable__control:checked~label.sk-toggleable__label-arrow:before {content: \"▾\";}#sk-container-id-1 div.sk-estimator input.sk-toggleable__control:checked~label.sk-toggleable__label {background-color: #d4ebff;}#sk-container-id-1 div.sk-label input.sk-toggleable__control:checked~label.sk-toggleable__label {background-color: #d4ebff;}#sk-container-id-1 input.sk-hidden--visually {border: 0;clip: rect(1px 1px 1px 1px);clip: rect(1px, 1px, 1px, 1px);height: 1px;margin: -1px;overflow: hidden;padding: 0;position: absolute;width: 1px;}#sk-container-id-1 div.sk-estimator {font-family: monospace;background-color: #f0f8ff;border: 1px dotted black;border-radius: 0.25em;box-sizing: border-box;margin-bottom: 0.5em;}#sk-container-id-1 div.sk-estimator:hover {background-color: #d4ebff;}#sk-container-id-1 div.sk-parallel-item::after {content: \"\";width: 100%;border-bottom: 1px solid gray;flex-grow: 1;}#sk-container-id-1 div.sk-label:hover label.sk-toggleable__label {background-color: #d4ebff;}#sk-container-id-1 div.sk-serial::before {content: \"\";position: absolute;border-left: 1px solid gray;box-sizing: border-box;top: 0;bottom: 0;left: 50%;z-index: 0;}#sk-container-id-1 div.sk-serial {display: flex;flex-direction: column;align-items: center;background-color: white;padding-right: 0.2em;padding-left: 0.2em;position: relative;}#sk-container-id-1 div.sk-item {position: relative;z-index: 1;}#sk-container-id-1 div.sk-parallel {display: flex;align-items: stretch;justify-content: center;background-color: white;position: relative;}#sk-container-id-1 div.sk-item::before, #sk-container-id-1 div.sk-parallel-item::before {content: \"\";position: absolute;border-left: 1px solid gray;box-sizing: border-box;top: 0;bottom: 0;left: 50%;z-index: -1;}#sk-container-id-1 div.sk-parallel-item {display: flex;flex-direction: column;z-index: 1;position: relative;background-color: white;}#sk-container-id-1 div.sk-parallel-item:first-child::after {align-self: flex-end;width: 50%;}#sk-container-id-1 div.sk-parallel-item:last-child::after {align-self: flex-start;width: 50%;}#sk-container-id-1 div.sk-parallel-item:only-child::after {width: 0;}#sk-container-id-1 div.sk-dashed-wrapped {border: 1px dashed gray;margin: 0 0.4em 0.5em 0.4em;box-sizing: border-box;padding-bottom: 0.4em;background-color: white;}#sk-container-id-1 div.sk-label label {font-family: monospace;font-weight: bold;display: inline-block;line-height: 1.2em;}#sk-container-id-1 div.sk-label-container {text-align: center;}#sk-container-id-1 div.sk-container {/* jupyter's `normalize.less` sets `[hidden] { display: none; }` but bootstrap.min.css set `[hidden] { display: none !important; }` so we also need the `!important` here to be able to override the default hidden behavior on the sphinx rendered scikit-learn.org. See: https://github.com/scikit-learn/scikit-learn/issues/21755 */display: inline-block !important;position: relative;}#sk-container-id-1 div.sk-text-repr-fallback {display: none;}</style><div id=\"sk-container-id-1\" class=\"sk-top-container\"><div class=\"sk-text-repr-fallback\"><pre>LogisticRegression()</pre><b>In a Jupyter environment, please rerun this cell to show the HTML representation or trust the notebook. <br />On GitHub, the HTML representation is unable to render, please try loading this page with nbviewer.org.</b></div><div class=\"sk-container\" hidden><div class=\"sk-item\"><div class=\"sk-estimator sk-toggleable\"><input class=\"sk-toggleable__control sk-hidden--visually\" id=\"sk-estimator-id-1\" type=\"checkbox\" checked><label for=\"sk-estimator-id-1\" class=\"sk-toggleable__label sk-toggleable__label-arrow\">LogisticRegression</label><div class=\"sk-toggleable__content\"><pre>LogisticRegression()</pre></div></div></div></div></div>"
      ],
      "text/plain": [
       "LogisticRegression()"
      ]
     },
     "execution_count": 23,
     "metadata": {},
     "output_type": "execute_result"
    }
   ],
   "source": [
    "logistic_regression = LogisticRegression()  # Initialize Logistic Regression model\n",
    "logistic_regression.fit(X_train, Y_train)  # Train the model on the training data"
   ]
  },
  {
   "cell_type": "code",
   "execution_count": 24,
   "id": "a084c72b-07de-4678-a892-a8a2db1bdad2",
   "metadata": {},
   "outputs": [
    {
     "name": "stdout",
     "output_type": "stream",
     "text": [
      "Intercept:  [4.33956651]\n"
     ]
    },
    {
     "data": {
      "text/plain": [
       "[('Gender',\n",
       "  array([-0.34445918,  0.6466558 , -1.03024076,  0.00811441, -0.16442916,\n",
       "          0.01538972, -0.22839423, -0.16229831,  0.17900049]))]"
      ]
     },
     "execution_count": 24,
     "metadata": {},
     "output_type": "execute_result"
    }
   ],
   "source": [
    "#printing model coeeficients\n",
    "print('Intercept: ', logistic_regression.intercept_)\n",
    "#Pairing the ind.variables names with their coefficients\n",
    "list(zip(X, logistic_regression.coef_))"
   ]
  },
  {
   "cell_type": "code",
   "execution_count": 25,
   "id": "b4269469-5e7b-4da2-947f-b147de003a1a",
   "metadata": {},
   "outputs": [],
   "source": [
    "#predicting the test and train set result\n",
    "Y_Pred=logistic_regression.predict(X_test)\n",
    "X_Pred=logistic_regression.predict(X_train)"
   ]
  },
  {
   "cell_type": "code",
   "execution_count": 26,
   "id": "1212773e-344e-4071-810d-85036d3dc894",
   "metadata": {},
   "outputs": [
    {
     "name": "stdout",
     "output_type": "stream",
     "text": [
      "Mean Absolute error : 0.4\n",
      "Mean Squared Error : 0.4\n",
      "Root mean Squared error : 0.6324555320336759\n"
     ]
    }
   ],
   "source": [
    "#Evaluating the metrics\n",
    "mae = metrics.mean_absolute_error(Y_test,Y_Pred)\n",
    "mse = metrics.mean_squared_error(Y_test,Y_Pred)\n",
    "R2 = np.sqrt(metrics.mean_squared_error(Y_test,Y_Pred))\n",
    "print(\"Mean Absolute error :\", mae)\n",
    "print(\"Mean Squared Error :\", mse)\n",
    "print(\"Root mean Squared error :\", R2)"
   ]
  },
  {
   "cell_type": "code",
   "execution_count": 27,
   "id": "b32fe368-38dd-4980-bb97-b9616beeb57d",
   "metadata": {},
   "outputs": [
    {
     "name": "stdout",
     "output_type": "stream",
     "text": [
      "Logistic Regression Accuracy: 60.00%\n"
     ]
    }
   ],
   "source": [
    "# Evaluate the accuracy of the trained model on the test data\n",
    "accuracy = logistic_regression.score(X_test, Y_test) \n",
    "print(\"Logistic Regression Accuracy: {:.2f}%\".format(accuracy * 100)) "
   ]
  },
  {
   "cell_type": "markdown",
   "id": "44159e18-1ec2-4c71-bf9a-7244217b102a",
   "metadata": {},
   "source": [
    "### b)THE AdaBoost Classifier"
   ]
  },
  {
   "cell_type": "code",
   "execution_count": 28,
   "id": "a95365b0-bff9-4c80-8145-bc36cadaadd4",
   "metadata": {},
   "outputs": [
    {
     "data": {
      "text/html": [
       "<style>#sk-container-id-2 {color: black;background-color: white;}#sk-container-id-2 pre{padding: 0;}#sk-container-id-2 div.sk-toggleable {background-color: white;}#sk-container-id-2 label.sk-toggleable__label {cursor: pointer;display: block;width: 100%;margin-bottom: 0;padding: 0.3em;box-sizing: border-box;text-align: center;}#sk-container-id-2 label.sk-toggleable__label-arrow:before {content: \"▸\";float: left;margin-right: 0.25em;color: #696969;}#sk-container-id-2 label.sk-toggleable__label-arrow:hover:before {color: black;}#sk-container-id-2 div.sk-estimator:hover label.sk-toggleable__label-arrow:before {color: black;}#sk-container-id-2 div.sk-toggleable__content {max-height: 0;max-width: 0;overflow: hidden;text-align: left;background-color: #f0f8ff;}#sk-container-id-2 div.sk-toggleable__content pre {margin: 0.2em;color: black;border-radius: 0.25em;background-color: #f0f8ff;}#sk-container-id-2 input.sk-toggleable__control:checked~div.sk-toggleable__content {max-height: 200px;max-width: 100%;overflow: auto;}#sk-container-id-2 input.sk-toggleable__control:checked~label.sk-toggleable__label-arrow:before {content: \"▾\";}#sk-container-id-2 div.sk-estimator input.sk-toggleable__control:checked~label.sk-toggleable__label {background-color: #d4ebff;}#sk-container-id-2 div.sk-label input.sk-toggleable__control:checked~label.sk-toggleable__label {background-color: #d4ebff;}#sk-container-id-2 input.sk-hidden--visually {border: 0;clip: rect(1px 1px 1px 1px);clip: rect(1px, 1px, 1px, 1px);height: 1px;margin: -1px;overflow: hidden;padding: 0;position: absolute;width: 1px;}#sk-container-id-2 div.sk-estimator {font-family: monospace;background-color: #f0f8ff;border: 1px dotted black;border-radius: 0.25em;box-sizing: border-box;margin-bottom: 0.5em;}#sk-container-id-2 div.sk-estimator:hover {background-color: #d4ebff;}#sk-container-id-2 div.sk-parallel-item::after {content: \"\";width: 100%;border-bottom: 1px solid gray;flex-grow: 1;}#sk-container-id-2 div.sk-label:hover label.sk-toggleable__label {background-color: #d4ebff;}#sk-container-id-2 div.sk-serial::before {content: \"\";position: absolute;border-left: 1px solid gray;box-sizing: border-box;top: 0;bottom: 0;left: 50%;z-index: 0;}#sk-container-id-2 div.sk-serial {display: flex;flex-direction: column;align-items: center;background-color: white;padding-right: 0.2em;padding-left: 0.2em;position: relative;}#sk-container-id-2 div.sk-item {position: relative;z-index: 1;}#sk-container-id-2 div.sk-parallel {display: flex;align-items: stretch;justify-content: center;background-color: white;position: relative;}#sk-container-id-2 div.sk-item::before, #sk-container-id-2 div.sk-parallel-item::before {content: \"\";position: absolute;border-left: 1px solid gray;box-sizing: border-box;top: 0;bottom: 0;left: 50%;z-index: -1;}#sk-container-id-2 div.sk-parallel-item {display: flex;flex-direction: column;z-index: 1;position: relative;background-color: white;}#sk-container-id-2 div.sk-parallel-item:first-child::after {align-self: flex-end;width: 50%;}#sk-container-id-2 div.sk-parallel-item:last-child::after {align-self: flex-start;width: 50%;}#sk-container-id-2 div.sk-parallel-item:only-child::after {width: 0;}#sk-container-id-2 div.sk-dashed-wrapped {border: 1px dashed gray;margin: 0 0.4em 0.5em 0.4em;box-sizing: border-box;padding-bottom: 0.4em;background-color: white;}#sk-container-id-2 div.sk-label label {font-family: monospace;font-weight: bold;display: inline-block;line-height: 1.2em;}#sk-container-id-2 div.sk-label-container {text-align: center;}#sk-container-id-2 div.sk-container {/* jupyter's `normalize.less` sets `[hidden] { display: none; }` but bootstrap.min.css set `[hidden] { display: none !important; }` so we also need the `!important` here to be able to override the default hidden behavior on the sphinx rendered scikit-learn.org. See: https://github.com/scikit-learn/scikit-learn/issues/21755 */display: inline-block !important;position: relative;}#sk-container-id-2 div.sk-text-repr-fallback {display: none;}</style><div id=\"sk-container-id-2\" class=\"sk-top-container\"><div class=\"sk-text-repr-fallback\"><pre>AdaBoostClassifier()</pre><b>In a Jupyter environment, please rerun this cell to show the HTML representation or trust the notebook. <br />On GitHub, the HTML representation is unable to render, please try loading this page with nbviewer.org.</b></div><div class=\"sk-container\" hidden><div class=\"sk-item\"><div class=\"sk-estimator sk-toggleable\"><input class=\"sk-toggleable__control sk-hidden--visually\" id=\"sk-estimator-id-2\" type=\"checkbox\" checked><label for=\"sk-estimator-id-2\" class=\"sk-toggleable__label sk-toggleable__label-arrow\">AdaBoostClassifier</label><div class=\"sk-toggleable__content\"><pre>AdaBoostClassifier()</pre></div></div></div></div></div>"
      ],
      "text/plain": [
       "AdaBoostClassifier()"
      ]
     },
     "execution_count": 28,
     "metadata": {},
     "output_type": "execute_result"
    }
   ],
   "source": [
    "ab = AdaBoostClassifier()\n",
    "ab.fit(X_train, Y_train)"
   ]
  },
  {
   "cell_type": "code",
   "execution_count": 29,
   "id": "fa1976a6-fb64-456e-8f47-b70653e3b0da",
   "metadata": {
    "scrolled": true
   },
   "outputs": [
    {
     "data": {
      "text/plain": [
       "dict_keys(['algorithm', 'base_estimator', 'estimator', 'learning_rate', 'n_estimators', 'random_state'])"
      ]
     },
     "execution_count": 29,
     "metadata": {},
     "output_type": "execute_result"
    }
   ],
   "source": [
    "ab.get_params().keys()"
   ]
  },
  {
   "cell_type": "code",
   "execution_count": 30,
   "id": "7edacd5f-1924-40db-add5-c0d8acbfcdcc",
   "metadata": {},
   "outputs": [
    {
     "name": "stdout",
     "output_type": "stream",
     "text": [
      "AdaBoost Classifier Parameters:\n",
      "algorithm : SAMME.R\n",
      "base_estimator : deprecated\n",
      "estimator : None\n",
      "learning_rate : 1.0\n",
      "n_estimators : 50\n",
      "random_state : None\n"
     ]
    }
   ],
   "source": [
    "params = ab.get_params()\n",
    "print(\"AdaBoost Classifier Parameters:\")\n",
    "for param_name, param_value in params.items():\n",
    "    print(param_name, \":\", param_value)"
   ]
  },
  {
   "cell_type": "code",
   "execution_count": 31,
   "id": "3303bea2-b666-4f0d-badc-ee8e723a1426",
   "metadata": {},
   "outputs": [
    {
     "name": "stdout",
     "output_type": "stream",
     "text": [
      "Feature Importances:\n",
      "Gender : 0.5\n",
      "Age : 0.0\n",
      "Years_of_Experience : 0.5\n",
      "Virtual_working_befor_Covid : 0.0\n",
      "Size_of_Team : 0.0\n",
      "Nature_of_company : 0.0\n",
      "Mode_of_Communication : 0.0\n",
      "Most_Prvalent_Problem : 0.0\n",
      "Recoomendation : 0.0\n"
     ]
    }
   ],
   "source": [
    "# feature importance refers to the relative contribution of each feature to the final prediction made by the ensemble model.\n",
    "feature_importances = ab.feature_importances_\n",
    "# Pairing feature names with their importances\n",
    "importance_per_feature = list(zip(X.columns, feature_importances))\n",
    "print(\"Feature Importances:\")\n",
    "for feature, importance in importance_per_feature:\n",
    "    print(feature, ':', importance)"
   ]
  },
  {
   "cell_type": "markdown",
   "id": "990f167e-eb8a-4e2d-a5cd-74513e920101",
   "metadata": {},
   "source": [
    "#### Interpretation"
   ]
  },
  {
   "cell_type": "markdown",
   "id": "c67c2287-3016-473d-8282-3d5b7aee39b3",
   "metadata": {},
   "source": [
    "\n",
    "The feature importances you provided are the relative importance values assigned to each feature by the AdaBoost model.\n",
    "\n",
    "Gender and Years_of_Experience: These features have an importance value of 0.5. It indicates that they considered relatively important by the AdaBoost model in making predictions.\n",
    "However, Age, Virtual_working_befor_Covid, Size_of_Team, Nature_of_company, Mode_of_Communication, Most_Prvalent_Problem and Recoomendation: These features have importance values of 0.0. It suggests that these features are not utilized significantly in the AdaBoost model for making predictions."
   ]
  },
  {
   "cell_type": "code",
   "execution_count": 32,
   "id": "7456720f-cdcd-45fb-8716-63f1b6258259",
   "metadata": {},
   "outputs": [
    {
     "name": "stdout",
     "output_type": "stream",
     "text": [
      "Ab Accuracy:80.00%\n"
     ]
    }
   ],
   "source": [
    "# Evaluate accuracy\n",
    "accuracy=ab.score(X_test,Y_test)\n",
    "print(\"Ab Accuracy:{:.2f}%\".format(accuracy*100))"
   ]
  },
  {
   "cell_type": "code",
   "execution_count": 34,
   "id": "72e250fb-744e-490a-a56a-00ec2df4d6ce",
   "metadata": {},
   "outputs": [
    {
     "name": "stdout",
     "output_type": "stream",
     "text": [
      "              precision    recall  f1-score   support\n",
      "\n",
      "           0       0.00      0.00      0.00         1\n",
      "           1       0.80      1.00      0.89         4\n",
      "\n",
      "    accuracy                           0.80         5\n",
      "   macro avg       0.40      0.50      0.44         5\n",
      "weighted avg       0.64      0.80      0.71         5\n",
      "\n"
     ]
    }
   ],
   "source": [
    "#predicting values from GridSearchCV\n",
    "y_pred =ab.predict(X_test)\n",
    "# show classification report on test data\n",
    "print(classification_report(Y_test.values, y_pred))"
   ]
  },
  {
   "cell_type": "code",
   "execution_count": null,
   "id": "57cd510d-2939-4af9-84ca-699b9a982b89",
   "metadata": {},
   "outputs": [],
   "source": []
  }
 ],
 "metadata": {
  "kernelspec": {
   "display_name": "Python 3 (ipykernel)",
   "language": "python",
   "name": "python3"
  },
  "language_info": {
   "codemirror_mode": {
    "name": "ipython",
    "version": 3
   },
   "file_extension": ".py",
   "mimetype": "text/x-python",
   "name": "python",
   "nbconvert_exporter": "python",
   "pygments_lexer": "ipython3",
   "version": "3.11.7"
  }
 },
 "nbformat": 4,
 "nbformat_minor": 5
}
